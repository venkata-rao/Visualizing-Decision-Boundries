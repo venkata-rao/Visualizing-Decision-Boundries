{
 "cells": [
  {
   "cell_type": "markdown",
   "metadata": {},
   "source": [
    "#### Visualizing Decision Boundry under logistic and decision trees\n",
    "Here I am using the data set provided in Andrew NG's ML course"
   ]
  },
  {
   "cell_type": "code",
   "execution_count": 1,
   "metadata": {
    "collapsed": true
   },
   "outputs": [],
   "source": [
    "setwd(\"D:/Andrew_NG_ML/machine-learning-ex2/ex2\")"
   ]
  },
  {
   "cell_type": "code",
   "execution_count": 2,
   "metadata": {
    "collapsed": false
   },
   "outputs": [
    {
     "data": {
      "text/html": [
       "<ol class=list-inline>\n",
       "\t<li>'costFunction.m'</li>\n",
       "\t<li>'costFunctionReg.m'</li>\n",
       "\t<li>'ex2.m'</li>\n",
       "\t<li>'ex2_reg.m'</li>\n",
       "\t<li>'ex2data1.txt'</li>\n",
       "\t<li>'ex2data2.txt'</li>\n",
       "\t<li>'lib'</li>\n",
       "\t<li>'mapFeature.m'</li>\n",
       "\t<li>'plotData.m'</li>\n",
       "\t<li>'plotDecisionBoundary.m'</li>\n",
       "\t<li>'predict.m'</li>\n",
       "\t<li>'sigmoid.m'</li>\n",
       "\t<li>'submit.m'</li>\n",
       "</ol>\n"
      ],
      "text/latex": [
       "\\begin{enumerate*}\n",
       "\\item 'costFunction.m'\n",
       "\\item 'costFunctionReg.m'\n",
       "\\item 'ex2.m'\n",
       "\\item 'ex2\\_reg.m'\n",
       "\\item 'ex2data1.txt'\n",
       "\\item 'ex2data2.txt'\n",
       "\\item 'lib'\n",
       "\\item 'mapFeature.m'\n",
       "\\item 'plotData.m'\n",
       "\\item 'plotDecisionBoundary.m'\n",
       "\\item 'predict.m'\n",
       "\\item 'sigmoid.m'\n",
       "\\item 'submit.m'\n",
       "\\end{enumerate*}\n"
      ],
      "text/markdown": [
       "1. 'costFunction.m'\n",
       "2. 'costFunctionReg.m'\n",
       "3. 'ex2.m'\n",
       "4. 'ex2_reg.m'\n",
       "5. 'ex2data1.txt'\n",
       "6. 'ex2data2.txt'\n",
       "7. 'lib'\n",
       "8. 'mapFeature.m'\n",
       "9. 'plotData.m'\n",
       "10. 'plotDecisionBoundary.m'\n",
       "11. 'predict.m'\n",
       "12. 'sigmoid.m'\n",
       "13. 'submit.m'\n",
       "\n",
       "\n"
      ],
      "text/plain": [
       " [1] \"costFunction.m\"         \"costFunctionReg.m\"      \"ex2.m\"                 \n",
       " [4] \"ex2_reg.m\"              \"ex2data1.txt\"           \"ex2data2.txt\"          \n",
       " [7] \"lib\"                    \"mapFeature.m\"           \"plotData.m\"            \n",
       "[10] \"plotDecisionBoundary.m\" \"predict.m\"              \"sigmoid.m\"             \n",
       "[13] \"submit.m\"              "
      ]
     },
     "metadata": {},
     "output_type": "display_data"
    }
   ],
   "source": [
    "list.files()"
   ]
  },
  {
   "cell_type": "markdown",
   "metadata": {},
   "source": [
    "#### Classify Admission Status based on exam scores\n",
    "This data is from the past admissions whether a person got admitted or not based on the scores from two exams."
   ]
  },
  {
   "cell_type": "code",
   "execution_count": 27,
   "metadata": {
    "collapsed": false
   },
   "outputs": [
    {
     "data": {
      "text/html": [
       "<table>\n",
       "<thead><tr><th scope=col>Exam1_Score</th><th scope=col>Exam2_Score</th><th scope=col>Status</th></tr></thead>\n",
       "<tbody>\n",
       "\t<tr><td>34.62366</td><td>78.02469</td><td>0       </td></tr>\n",
       "\t<tr><td>30.28671</td><td>43.89500</td><td>0       </td></tr>\n",
       "\t<tr><td>35.84741</td><td>72.90220</td><td>0       </td></tr>\n",
       "\t<tr><td>60.18260</td><td>86.30855</td><td>1       </td></tr>\n",
       "\t<tr><td>79.03274</td><td>75.34438</td><td>1       </td></tr>\n",
       "\t<tr><td>45.08328</td><td>56.31637</td><td>0       </td></tr>\n",
       "</tbody>\n",
       "</table>\n"
      ],
      "text/latex": [
       "\\begin{tabular}{r|lll}\n",
       " Exam1\\_Score & Exam2\\_Score & Status\\\\\n",
       "\\hline\n",
       "\t 34.62366 & 78.02469 & 0       \\\\\n",
       "\t 30.28671 & 43.89500 & 0       \\\\\n",
       "\t 35.84741 & 72.90220 & 0       \\\\\n",
       "\t 60.18260 & 86.30855 & 1       \\\\\n",
       "\t 79.03274 & 75.34438 & 1       \\\\\n",
       "\t 45.08328 & 56.31637 & 0       \\\\\n",
       "\\end{tabular}\n"
      ],
      "text/markdown": [
       "\n",
       "Exam1_Score | Exam2_Score | Status | \n",
       "|---|---|---|---|---|---|\n",
       "| 34.62366 | 78.02469 | 0        | \n",
       "| 30.28671 | 43.89500 | 0        | \n",
       "| 35.84741 | 72.90220 | 0        | \n",
       "| 60.18260 | 86.30855 | 1        | \n",
       "| 79.03274 | 75.34438 | 1        | \n",
       "| 45.08328 | 56.31637 | 0        | \n",
       "\n",
       "\n"
      ],
      "text/plain": [
       "  Exam1_Score Exam2_Score Status\n",
       "1 34.62366    78.02469    0     \n",
       "2 30.28671    43.89500    0     \n",
       "3 35.84741    72.90220    0     \n",
       "4 60.18260    86.30855    1     \n",
       "5 79.03274    75.34438    1     \n",
       "6 45.08328    56.31637    0     "
      ]
     },
     "metadata": {},
     "output_type": "display_data"
    },
    {
     "name": "stdout",
     "output_type": "stream",
     "text": [
      "'data.frame':\t100 obs. of  3 variables:\n",
      " $ Exam1_Score: num  34.6 30.3 35.8 60.2 79 ...\n",
      " $ Exam2_Score: num  78 43.9 72.9 86.3 75.3 ...\n",
      " $ Status     : Factor w/ 2 levels \"0\",\"1\": 1 1 1 2 2 1 2 2 2 2 ...\n"
     ]
    }
   ],
   "source": [
    "## read train data\n",
    "train <- read.csv(\"ex2data1.txt\",sep = \",\", header = F)\n",
    "names(train) <- c(\"Exam1_Score\",\"Exam2_Score\",\"Status\")\n",
    "head(train)\n",
    "train$Status <- as.factor(train$Status)\n",
    "str(train)"
   ]
  },
  {
   "cell_type": "markdown",
   "metadata": {},
   "source": [
    "### EDA and Visualization"
   ]
  },
  {
   "cell_type": "code",
   "execution_count": 28,
   "metadata": {
    "collapsed": false
   },
   "outputs": [
    {
     "data": {
      "text/plain": [
       "\n",
       " 0  1 \n",
       "40 60 "
      ]
     },
     "metadata": {},
     "output_type": "display_data"
    }
   ],
   "source": [
    "table(train$Status)"
   ]
  },
  {
   "cell_type": "markdown",
   "metadata": {},
   "source": [
    "There are 100 records out of which 60 are positive and 40 are negative"
   ]
  },
  {
   "cell_type": "code",
   "execution_count": 32,
   "metadata": {
    "collapsed": false
   },
   "outputs": [
    {
     "data": {},
     "metadata": {},
     "output_type": "display_data"
    },
    {
     "data": {
      "image/png": "[encoded data removed]",
      "text/plain": [
       "plot without title"
      ]
     },
     "metadata": {},
     "output_type": "display_data"
    }
   ],
   "source": [
    "library(repr)\n",
    "options(repr.plot.width=4, repr.plot.height=3)\n",
    "# Above two lines are to set the size of the plot in the jupyter notebook\n",
    "\n",
    "library(ggplot2)\n",
    "ggplot(train, aes(x=Exam1_Score, y=Exam2_Score,color = Status,shape = Status)) +\n",
    "  geom_point()"
   ]
  },
  {
   "cell_type": "markdown",
   "metadata": {},
   "source": [
    "You can see that the data is linearly seperable. The red circles and blue triangles can be seperated one straight line."
   ]
  },
  {
   "cell_type": "markdown",
   "metadata": {},
   "source": [
    "#### Build a logistic regression "
   ]
  },
  {
   "cell_type": "code",
   "execution_count": 53,
   "metadata": {
    "collapsed": false
   },
   "outputs": [],
   "source": [
    "logit_fit <- glm( Status ~ Exam1_Score + Exam2_Score, data = train, family = \"binomial\")\n",
    "train$predict_prob <- predict(logit_fit,data = train, type = \"response\")\n",
    "\n",
    "# predict_prob variables contain the predicted probabilities. I am just predicting on the train data"
   ]
  },
  {
   "cell_type": "code",
   "execution_count": 54,
   "metadata": {
    "collapsed": false
   },
   "outputs": [
    {
     "data": {},
     "metadata": {},
     "output_type": "display_data"
    },
    {
     "data": {
      "image/png": "[encoded data removed]",
      "text/plain": [
       "plot without title"
      ]
     },
     "metadata": {},
     "output_type": "display_data"
    }
   ],
   "source": [
    "library(ggplot2)\n",
    "ggplot(train, aes(y = predict, x = seq(1, length(train$predict)),color = Status,xlab = \"index\")) + geom_point() + labs(x = \"index\")"
   ]
  },
  {
   "cell_type": "markdown",
   "metadata": {},
   "source": [
    "From this plot, we can see that Class = 1 have probabilities close to 1 where as Class = 0 have probabilites close to 0.\n",
    "We can choose a threshold of 0.5 to choose Class = 1"
   ]
  },
  {
   "cell_type": "code",
   "execution_count": 55,
   "metadata": {
    "collapsed": true
   },
   "outputs": [],
   "source": [
    "train$predict_class <- as.factor(ifelse(train$predict_prob > 0.5, 1,0))"
   ]
  },
  {
   "cell_type": "code",
   "execution_count": 57,
   "metadata": {
    "collapsed": false
   },
   "outputs": [
    {
     "data": {
      "text/plain": [
       "   \n",
       "     0  1\n",
       "  0 34  6\n",
       "  1  5 55"
      ]
     },
     "metadata": {},
     "output_type": "display_data"
    }
   ],
   "source": [
    "table(train$Status,train$predict_class)"
   ]
  },
  {
   "cell_type": "markdown",
   "metadata": {},
   "source": [
    "#### Plotting decision Boundry\n",
    "Lets plot the decision boundry with the features and the cutoff threshold"
   ]
  },
  {
   "cell_type": "code",
   "execution_count": 58,
   "metadata": {
    "collapsed": false
   },
   "outputs": [
    {
     "data": {
      "text/html": [
       "<dl class=dl-horizontal>\n",
       "\t<dt>(Intercept)</dt>\n",
       "\t\t<dd>-25.1613335445341</dd>\n",
       "\t<dt>Exam1_Score</dt>\n",
       "\t\t<dd>0.206231713116463</dd>\n",
       "\t<dt>Exam2_Score</dt>\n",
       "\t\t<dd>0.201471600261559</dd>\n",
       "</dl>\n"
      ],
      "text/latex": [
       "\\begin{description*}\n",
       "\\item[(Intercept)] -25.1613335445341\n",
       "\\item[Exam1\\textbackslash{}\\_Score] 0.206231713116463\n",
       "\\item[Exam2\\textbackslash{}\\_Score] 0.201471600261559\n",
       "\\end{description*}\n"
      ],
      "text/markdown": [
       "(Intercept)\n",
       ":   -25.1613335445341Exam1_Score\n",
       ":   0.206231713116463Exam2_Score\n",
       ":   0.201471600261559\n",
       "\n"
      ],
      "text/plain": [
       "(Intercept) Exam1_Score Exam2_Score \n",
       "-25.1613335   0.2062317   0.2014716 "
      ]
     },
     "metadata": {},
     "output_type": "display_data"
    }
   ],
   "source": [
    "logit_fit$coefficients"
   ]
  },
  {
   "cell_type": "code",
   "execution_count": 110,
   "metadata": {
    "collapsed": false
   },
   "outputs": [],
   "source": [
    "Intercept = unname(logit_fit$coefficients)[1]/unname(logit_fit$coefficients)[2] * -1\n",
    "Slope = unname(logit_fit$coefficients)[2]/unname(logit_fit$coefficients)[3] * -1\n",
    "\n",
    "library(repr)\n",
    "options(repr.plot.width=7, repr.plot.height=7)\n",
    "\n",
    "sp <- ggplot(train, aes(x=Exam1_Score, y=Exam2_Score,color = Status,shape = Status)) +\n",
    "  geom_point() "
   ]
  },
  {
   "cell_type": "code",
   "execution_count": 175,
   "metadata": {
    "collapsed": false
   },
   "outputs": [
    {
     "data": {},
     "metadata": {},
     "output_type": "display_data"
    },
    {
     "data": {
      "image/png": "[encoded data removed]",
      "text/plain": [
       "plot without title"
      ]
     },
     "metadata": {},
     "output_type": "display_data"
    }
   ],
   "source": [
    "sp + geom_abline(intercept = Intercept, slope = Slope, color=\"red\",linetype=\"dashed\", size=1.5) + ggtitle(\"Logistic Regression Decision Boundry\")"
   ]
  },
  {
   "cell_type": "code",
   "execution_count": 119,
   "metadata": {
    "collapsed": false
   },
   "outputs": [],
   "source": [
    "#### Lets build a decision tree\n",
    "library(rpart)\n",
    "rpart_fit <- rpart(Status ~ Exam1_Score + Exam2_Score, data = train,parms = list(split=\"information\"))"
   ]
  },
  {
   "cell_type": "code",
   "execution_count": 120,
   "metadata": {
    "collapsed": false
   },
   "outputs": [
    {
     "name": "stdout",
     "output_type": "stream",
     "text": [
      "\n",
      "Classification tree:\n",
      "rpart(formula = Status ~ Exam1_Score + Exam2_Score, data = train, \n",
      "    parms = list(split = \"information\"))\n",
      "\n",
      "Variables actually used in tree construction:\n",
      "[1] Exam1_Score Exam2_Score\n",
      "\n",
      "Root node error: 40/100 = 0.4\n",
      "\n",
      "n= 100 \n",
      "\n",
      "     CP nsplit rel error xerror     xstd\n",
      "1 0.525      0     1.000  1.000 0.122474\n",
      "2 0.225      1     0.475  0.675 0.110990\n",
      "3 0.010      2     0.250  0.375 0.089268\n"
     ]
    }
   ],
   "source": [
    "printcp(rpart_fit)"
   ]
  },
  {
   "cell_type": "markdown",
   "metadata": {},
   "source": [
    "Minimum cross validation error is when cp = 0.01. Lets prune the tree again with cp = 0.01"
   ]
  },
  {
   "cell_type": "code",
   "execution_count": 124,
   "metadata": {
    "collapsed": true
   },
   "outputs": [],
   "source": [
    "rpart_prune<- prune(rpart_fit, cp= 0.01)\n",
    "train$predict_rpart <- predict(rpart_prune,data = train,type = \"class\")"
   ]
  },
  {
   "cell_type": "code",
   "execution_count": 127,
   "metadata": {
    "collapsed": false
   },
   "outputs": [
    {
     "name": "stdout",
     "output_type": "stream",
     "text": [
      "n= 100 \n",
      "\n",
      "node), split, n, loss, yval, (yprob)\n",
      "      * denotes terminal node\n",
      "\n",
      "1) root 100 40 1 (0.40000000 0.60000000)  \n",
      "  2) Exam1_Score< 56.74626 35  7 0 (0.80000000 0.20000000) *\n",
      "  3) Exam1_Score>=56.74626 65 12 1 (0.18461538 0.81538462)  \n",
      "    6) Exam2_Score< 43.11452 9  0 0 (1.00000000 0.00000000) *\n",
      "    7) Exam2_Score>=43.11452 56  3 1 (0.05357143 0.94642857) *\n"
     ]
    }
   ],
   "source": [
    "print(rpart_prune)"
   ]
  },
  {
   "cell_type": "code",
   "execution_count": 180,
   "metadata": {
    "collapsed": false
   },
   "outputs": [],
   "source": [
    "#### This code is obtained from http://michael.hahsler.net\n",
    "\n",
    "decisionplot <- function(model, data, class = NULL, predict_type = \"class\",\n",
    "  resolution = 100, showgrid = TRUE, ...) {\n",
    "\n",
    "  if(!is.null(class)) cl <- data[,class] else cl <- 1\n",
    "  data <- data[,1:2]\n",
    "  k <- length(unique(cl))\n",
    "\n",
    "  plot(data, col = as.integer(cl)+1L, pch = as.integer(cl)+1L,...)\n",
    "\n",
    "  # make grid\n",
    "  r <- sapply(data, range, na.rm = TRUE)\n",
    "  xs <- seq(r[1,1], r[2,1], length.out = resolution)\n",
    "  ys <- seq(r[1,2], r[2,2], length.out = resolution)\n",
    "  g <- cbind(rep(xs, each=resolution), rep(ys, time = resolution))\n",
    "  colnames(g) <- colnames(r)\n",
    "  g <- as.data.frame(g)\n",
    "\n",
    "  ### guess how to get class labels from predict\n",
    "  ### (unfortunately not very consistent between models)\n",
    "  p <- predict(model, g, type = predict_type)\n",
    "  if(is.list(p)) p <- p$class\n",
    "  p <- as.factor(p)\n",
    "\n",
    "  if(showgrid) points(g, col = as.integer(p)+1L, pch = \".\")\n",
    "\n",
    "  z <- matrix(as.integer(p), nrow = resolution, byrow = TRUE)\n",
    "  contour(xs, ys, z, add = TRUE, drawlabels = FALSE,\n",
    "    lwd = 2, levels = (1:(k-1))+.5)\n",
    "\n",
    "  invisible(z)\n",
    "}"
   ]
  },
  {
   "cell_type": "code",
   "execution_count": 178,
   "metadata": {
    "collapsed": false
   },
   "outputs": [
    {
     "data": {
      "image/png": "[encoded data removed]",
      "text/plain": [
       "Plot with title \"Decision Tree Boundry\""
      ]
     },
     "metadata": {},
     "output_type": "display_data"
    }
   ],
   "source": [
    "decisionplot(rpart_prune,train, class = \"Status\", main = \"Decision Tree Boundry\")"
   ]
  },
  {
   "cell_type": "markdown",
   "metadata": {},
   "source": [
    "You can see that Decision Tree boundries are straight lines parallel to the axis. Logistic regression shape can take any\n",
    "shape depending upon the hypothesis we are trying to fit. This is one of the major differences"
   ]
  },
  {
   "cell_type": "code",
   "execution_count": null,
   "metadata": {
    "collapsed": true
   },
   "outputs": [],
   "source": []
  }
 ],
 "metadata": {
  "kernelspec": {
   "display_name": "R",
   "language": "R",
   "name": "ir"
  },
  "language_info": {
   "codemirror_mode": "r",
   "file_extension": ".r",
   "mimetype": "text/x-r-source",
   "name": "R",
   "pygments_lexer": "r",
   "version": "3.2.3"
  }
 },
 "nbformat": 4,
 "nbformat_minor": 2
}
